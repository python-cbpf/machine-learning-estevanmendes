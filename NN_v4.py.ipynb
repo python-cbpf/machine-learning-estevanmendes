{
 "cells": [
  {
   "cell_type": "code",
   "execution_count": 1,
   "metadata": {},
   "outputs": [
    {
     "name": "stderr",
     "output_type": "stream",
     "text": [
      "Using TensorFlow backend.\n"
     ]
    }
   ],
   "source": [
    "import keras as k\n",
    "from keras.models import Sequential\n",
    "from keras.layers import Dense, Dropout\n",
    "from keras.optimizers import RMSprop"
   ]
  },
  {
   "cell_type": "code",
   "execution_count": 2,
   "metadata": {},
   "outputs": [],
   "source": [
    "model = Sequential()#[Dense(4,activation='sigmoid',use_bias=True, input_dim=2)])"
   ]
  },
  {
   "cell_type": "code",
   "execution_count": 3,
   "metadata": {},
   "outputs": [],
   "source": [
    "model.add(Dense(4,activation='sigmoid',use_bias=True, input_dim=2))"
   ]
  },
  {
   "cell_type": "code",
   "execution_count": 4,
   "metadata": {},
   "outputs": [],
   "source": [
    "model.add(Dense(1,activation='sigmoid'))"
   ]
  },
  {
   "cell_type": "code",
   "execution_count": 5,
   "metadata": {},
   "outputs": [
    {
     "name": "stdout",
     "output_type": "stream",
     "text": [
      "Model: \"sequential_1\"\n",
      "_________________________________________________________________\n",
      "Layer (type)                 Output Shape              Param #   \n",
      "=================================================================\n",
      "dense_1 (Dense)              (None, 4)                 12        \n",
      "_________________________________________________________________\n",
      "dense_2 (Dense)              (None, 1)                 5         \n",
      "=================================================================\n",
      "Total params: 17\n",
      "Trainable params: 17\n",
      "Non-trainable params: 0\n",
      "_________________________________________________________________\n"
     ]
    }
   ],
   "source": [
    "model.summary()\n"
   ]
  },
  {
   "cell_type": "markdown",
   "metadata": {},
   "source": []
  },
  {
   "cell_type": "code",
   "execution_count": 6,
   "metadata": {},
   "outputs": [],
   "source": [
    "model.compile(optimizer='rmsprop', loss='binary_crossentropy', metrics=['accuracy'])"
   ]
  },
  {
   "cell_type": "code",
   "execution_count": 12,
   "metadata": {},
   "outputs": [],
   "source": [
    "import pandas as pd\n",
    "import numpy as np\n",
    "data=pd.read_csv(\"pseudo_data_square.csv\",sep=\"\\t\", header=None)\n",
    "data.columns=['x','y','results']\n",
    "DATA_1=np.array(data.x)\n",
    "DATA_2=np.array(data.y)\n",
    "RESULTS=np.array(data.results)\n",
    "END=int(len(DATA_1)*0.6)\n",
    "DATA_train=np.vstack((DATA_1[:END], DATA_2[:END])).T\n",
    "DATA_train_x=DATA_1[:END]\n",
    "DATA_train_y=DATA_2[:END]\n",
    "RESULTS_train=RESULTS[:END]\n",
    "DATA_check=np.vstack((DATA_1[END:], DATA_2[END:])).T\n",
    "RESULTS_check=RESULTS[END:]\n",
    "RESULTS_NN=np.zeros(len(RESULTS[END:]))"
   ]
  },
  {
   "cell_type": "code",
   "execution_count": 21,
   "metadata": {},
   "outputs": [
    {
     "name": "stdout",
     "output_type": "stream",
     "text": [
      "Epoch 1/100\n",
      "300/300 [==============================] - 0s 253us/step - loss: 0.0332 - accuracy: 1.0000\n",
      "Epoch 2/100\n",
      "300/300 [==============================] - 0s 290us/step - loss: 0.0331 - accuracy: 1.0000\n",
      "Epoch 3/100\n",
      "300/300 [==============================] - 0s 293us/step - loss: 0.0331 - accuracy: 1.0000\n",
      "Epoch 4/100\n",
      "300/300 [==============================] - 0s 301us/step - loss: 0.0331 - accuracy: 1.0000\n",
      "Epoch 5/100\n",
      "300/300 [==============================] - 0s 264us/step - loss: 0.0331 - accuracy: 1.0000\n",
      "Epoch 6/100\n",
      "300/300 [==============================] - 0s 299us/step - loss: 0.0331 - accuracy: 1.0000\n",
      "Epoch 7/100\n",
      "300/300 [==============================] - 0s 262us/step - loss: 0.0331 - accuracy: 1.0000\n",
      "Epoch 8/100\n",
      "300/300 [==============================] - 0s 296us/step - loss: 0.0330 - accuracy: 1.0000\n",
      "Epoch 9/100\n",
      "300/300 [==============================] - 0s 254us/step - loss: 0.0330 - accuracy: 1.0000\n",
      "Epoch 10/100\n",
      "300/300 [==============================] - 0s 216us/step - loss: 0.0330 - accuracy: 1.0000\n",
      "Epoch 11/100\n",
      "300/300 [==============================] - 0s 285us/step - loss: 0.0330 - accuracy: 1.0000\n",
      "Epoch 12/100\n",
      "300/300 [==============================] - 0s 300us/step - loss: 0.0329 - accuracy: 1.0000\n",
      "Epoch 13/100\n",
      "300/300 [==============================] - 0s 259us/step - loss: 0.0329 - accuracy: 1.0000\n",
      "Epoch 14/100\n",
      "300/300 [==============================] - 0s 300us/step - loss: 0.0329 - accuracy: 1.0000\n",
      "Epoch 15/100\n",
      "300/300 [==============================] - 0s 299us/step - loss: 0.0329 - accuracy: 1.0000\n",
      "Epoch 16/100\n",
      "300/300 [==============================] - 0s 244us/step - loss: 0.0329 - accuracy: 1.0000\n",
      "Epoch 17/100\n",
      "300/300 [==============================] - 0s 243us/step - loss: 0.0328 - accuracy: 1.0000\n",
      "Epoch 18/100\n",
      "300/300 [==============================] - 0s 270us/step - loss: 0.0328 - accuracy: 1.0000\n",
      "Epoch 19/100\n",
      "300/300 [==============================] - 0s 227us/step - loss: 0.0327 - accuracy: 1.0000\n",
      "Epoch 20/100\n",
      "300/300 [==============================] - 0s 289us/step - loss: 0.0327 - accuracy: 1.0000\n",
      "Epoch 21/100\n",
      "300/300 [==============================] - 0s 251us/step - loss: 0.0327 - accuracy: 1.0000\n",
      "Epoch 22/100\n",
      "300/300 [==============================] - 0s 299us/step - loss: 0.0328 - accuracy: 1.0000\n",
      "Epoch 23/100\n",
      "300/300 [==============================] - 0s 336us/step - loss: 0.0327 - accuracy: 1.0000\n",
      "Epoch 24/100\n",
      "300/300 [==============================] - 0s 302us/step - loss: 0.0327 - accuracy: 1.0000\n",
      "Epoch 25/100\n",
      "300/300 [==============================] - 0s 246us/step - loss: 0.0326 - accuracy: 1.0000\n",
      "Epoch 26/100\n",
      "300/300 [==============================] - 0s 307us/step - loss: 0.0327 - accuracy: 1.0000\n",
      "Epoch 27/100\n",
      "300/300 [==============================] - 0s 264us/step - loss: 0.0327 - accuracy: 1.0000\n",
      "Epoch 28/100\n",
      "300/300 [==============================] - 0s 293us/step - loss: 0.0326 - accuracy: 1.0000\n",
      "Epoch 29/100\n",
      "300/300 [==============================] - 0s 240us/step - loss: 0.0327 - accuracy: 1.0000\n",
      "Epoch 30/100\n",
      "300/300 [==============================] - 0s 285us/step - loss: 0.0326 - accuracy: 1.0000\n",
      "Epoch 31/100\n",
      "300/300 [==============================] - 0s 290us/step - loss: 0.0326 - accuracy: 1.0000\n",
      "Epoch 32/100\n",
      "300/300 [==============================] - 0s 289us/step - loss: 0.0325 - accuracy: 1.0000\n",
      "Epoch 33/100\n",
      "300/300 [==============================] - 0s 307us/step - loss: 0.0326 - accuracy: 1.0000\n",
      "Epoch 34/100\n",
      "300/300 [==============================] - 0s 308us/step - loss: 0.0325 - accuracy: 1.0000\n",
      "Epoch 35/100\n",
      "300/300 [==============================] - 0s 280us/step - loss: 0.0326 - accuracy: 1.0000\n",
      "Epoch 36/100\n",
      "300/300 [==============================] - 0s 243us/step - loss: 0.0325 - accuracy: 1.0000\n",
      "Epoch 37/100\n",
      "300/300 [==============================] - 0s 276us/step - loss: 0.0325 - accuracy: 1.0000\n",
      "Epoch 38/100\n",
      "300/300 [==============================] - 0s 261us/step - loss: 0.0324 - accuracy: 1.0000\n",
      "Epoch 39/100\n",
      "300/300 [==============================] - 0s 249us/step - loss: 0.0324 - accuracy: 1.0000\n",
      "Epoch 40/100\n",
      "300/300 [==============================] - 0s 293us/step - loss: 0.0325 - accuracy: 1.0000\n",
      "Epoch 41/100\n",
      "300/300 [==============================] - 0s 297us/step - loss: 0.0324 - accuracy: 1.0000\n",
      "Epoch 42/100\n",
      "300/300 [==============================] - 0s 277us/step - loss: 0.0323 - accuracy: 1.0000\n",
      "Epoch 43/100\n",
      "300/300 [==============================] - 0s 316us/step - loss: 0.0323 - accuracy: 1.0000\n",
      "Epoch 44/100\n",
      "300/300 [==============================] - 0s 304us/step - loss: 0.0324 - accuracy: 1.0000\n",
      "Epoch 45/100\n",
      "300/300 [==============================] - 0s 328us/step - loss: 0.0323 - accuracy: 1.0000\n",
      "Epoch 46/100\n",
      "300/300 [==============================] - 0s 429us/step - loss: 0.0323 - accuracy: 1.0000\n",
      "Epoch 47/100\n",
      "300/300 [==============================] - 0s 434us/step - loss: 0.0323 - accuracy: 1.0000\n",
      "Epoch 48/100\n",
      "300/300 [==============================] - 0s 300us/step - loss: 0.0323 - accuracy: 1.0000\n",
      "Epoch 49/100\n",
      "300/300 [==============================] - 0s 296us/step - loss: 0.0322 - accuracy: 1.0000\n",
      "Epoch 50/100\n",
      "300/300 [==============================] - 0s 238us/step - loss: 0.0323 - accuracy: 1.0000\n",
      "Epoch 51/100\n",
      "300/300 [==============================] - 0s 306us/step - loss: 0.0322 - accuracy: 1.0000\n",
      "Epoch 52/100\n",
      "300/300 [==============================] - 0s 318us/step - loss: 0.0322 - accuracy: 1.0000\n",
      "Epoch 53/100\n",
      "300/300 [==============================] - 0s 233us/step - loss: 0.0322 - accuracy: 1.0000\n",
      "Epoch 54/100\n",
      "300/300 [==============================] - 0s 237us/step - loss: 0.0322 - accuracy: 1.0000\n",
      "Epoch 55/100\n",
      "300/300 [==============================] - 0s 227us/step - loss: 0.0321 - accuracy: 1.0000\n",
      "Epoch 56/100\n",
      "300/300 [==============================] - 0s 253us/step - loss: 0.0321 - accuracy: 1.0000\n",
      "Epoch 57/100\n",
      "300/300 [==============================] - 0s 233us/step - loss: 0.0321 - accuracy: 1.0000\n",
      "Epoch 58/100\n",
      "300/300 [==============================] - 0s 258us/step - loss: 0.0320 - accuracy: 1.0000\n",
      "Epoch 59/100\n",
      "300/300 [==============================] - 0s 264us/step - loss: 0.0320 - accuracy: 1.0000\n",
      "Epoch 60/100\n",
      "300/300 [==============================] - 0s 212us/step - loss: 0.0320 - accuracy: 1.0000\n",
      "Epoch 61/100\n",
      "300/300 [==============================] - 0s 222us/step - loss: 0.0320 - accuracy: 1.0000\n",
      "Epoch 62/100\n",
      "300/300 [==============================] - 0s 241us/step - loss: 0.0319 - accuracy: 1.0000\n",
      "Epoch 63/100\n",
      "300/300 [==============================] - 0s 244us/step - loss: 0.0320 - accuracy: 1.0000\n",
      "Epoch 64/100\n",
      "300/300 [==============================] - 0s 254us/step - loss: 0.0320 - accuracy: 1.0000\n",
      "Epoch 65/100\n",
      "300/300 [==============================] - 0s 262us/step - loss: 0.0320 - accuracy: 1.0000\n",
      "Epoch 66/100\n",
      "300/300 [==============================] - 0s 238us/step - loss: 0.0319 - accuracy: 1.0000\n",
      "Epoch 67/100\n",
      "300/300 [==============================] - 0s 226us/step - loss: 0.0319 - accuracy: 1.0000\n",
      "Epoch 68/100\n",
      "300/300 [==============================] - 0s 216us/step - loss: 0.0319 - accuracy: 1.0000\n",
      "Epoch 69/100\n",
      "300/300 [==============================] - 0s 248us/step - loss: 0.0318 - accuracy: 1.0000\n",
      "Epoch 70/100\n",
      "300/300 [==============================] - 0s 228us/step - loss: 0.0319 - accuracy: 1.0000\n",
      "Epoch 71/100\n",
      "300/300 [==============================] - 0s 224us/step - loss: 0.0318 - accuracy: 1.0000\n",
      "Epoch 72/100\n",
      "300/300 [==============================] - 0s 255us/step - loss: 0.0318 - accuracy: 1.0000\n",
      "Epoch 73/100\n",
      "300/300 [==============================] - 0s 245us/step - loss: 0.0319 - accuracy: 1.0000\n",
      "Epoch 74/100\n",
      "300/300 [==============================] - 0s 240us/step - loss: 0.0317 - accuracy: 1.0000\n",
      "Epoch 75/100\n",
      "300/300 [==============================] - 0s 246us/step - loss: 0.0318 - accuracy: 1.0000\n",
      "Epoch 76/100\n",
      "300/300 [==============================] - 0s 245us/step - loss: 0.0317 - accuracy: 1.0000\n",
      "Epoch 77/100\n",
      "300/300 [==============================] - 0s 237us/step - loss: 0.0317 - accuracy: 1.0000\n",
      "Epoch 78/100\n",
      "300/300 [==============================] - 0s 234us/step - loss: 0.0316 - accuracy: 1.0000\n",
      "Epoch 79/100\n"
     ]
    },
    {
     "name": "stdout",
     "output_type": "stream",
     "text": [
      "300/300 [==============================] - 0s 297us/step - loss: 0.0316 - accuracy: 1.0000\n",
      "Epoch 80/100\n",
      "300/300 [==============================] - 0s 336us/step - loss: 0.0316 - accuracy: 1.0000\n",
      "Epoch 81/100\n",
      "300/300 [==============================] - 0s 346us/step - loss: 0.0317 - accuracy: 1.0000\n",
      "Epoch 82/100\n",
      "300/300 [==============================] - 0s 346us/step - loss: 0.0316 - accuracy: 1.0000\n",
      "Epoch 83/100\n",
      "300/300 [==============================] - 0s 246us/step - loss: 0.0316 - accuracy: 1.0000\n",
      "Epoch 84/100\n",
      "300/300 [==============================] - 0s 376us/step - loss: 0.0316 - accuracy: 1.0000\n",
      "Epoch 85/100\n",
      "300/300 [==============================] - 0s 302us/step - loss: 0.0315 - accuracy: 1.0000\n",
      "Epoch 86/100\n",
      "300/300 [==============================] - 0s 237us/step - loss: 0.0315 - accuracy: 1.0000\n",
      "Epoch 87/100\n",
      "300/300 [==============================] - 0s 231us/step - loss: 0.0315 - accuracy: 1.0000\n",
      "Epoch 88/100\n",
      "300/300 [==============================] - 0s 257us/step - loss: 0.0315 - accuracy: 1.0000\n",
      "Epoch 89/100\n",
      "300/300 [==============================] - 0s 231us/step - loss: 0.0314 - accuracy: 1.0000\n",
      "Epoch 90/100\n",
      "300/300 [==============================] - 0s 227us/step - loss: 0.0314 - accuracy: 1.0000\n",
      "Epoch 91/100\n",
      "300/300 [==============================] - 0s 273us/step - loss: 0.0314 - accuracy: 1.0000\n",
      "Epoch 92/100\n",
      "300/300 [==============================] - 0s 383us/step - loss: 0.0314 - accuracy: 1.0000\n",
      "Epoch 93/100\n",
      "300/300 [==============================] - 0s 265us/step - loss: 0.0314 - accuracy: 1.0000\n",
      "Epoch 94/100\n",
      "300/300 [==============================] - 0s 262us/step - loss: 0.0313 - accuracy: 1.0000\n",
      "Epoch 95/100\n",
      "300/300 [==============================] - 0s 234us/step - loss: 0.0314 - accuracy: 1.0000\n",
      "Epoch 96/100\n",
      "300/300 [==============================] - 0s 242us/step - loss: 0.0314 - accuracy: 1.0000\n",
      "Epoch 97/100\n",
      "300/300 [==============================] - 0s 231us/step - loss: 0.0313 - accuracy: 1.0000\n",
      "Epoch 98/100\n",
      "300/300 [==============================] - 0s 237us/step - loss: 0.0313 - accuracy: 1.0000\n",
      "Epoch 99/100\n",
      "300/300 [==============================] - 0s 275us/step - loss: 0.0313 - accuracy: 1.0000\n",
      "Epoch 100/100\n",
      "300/300 [==============================] - 0s 231us/step - loss: 0.0313 - accuracy: 1.0000\n"
     ]
    },
    {
     "data": {
      "text/plain": [
       "<keras.callbacks.callbacks.History at 0x7ff72c8d9c50>"
      ]
     },
     "execution_count": 21,
     "metadata": {},
     "output_type": "execute_result"
    }
   ],
   "source": [
    "model.fit(DATA_train,RESULTS_train, epochs=100, batch_size=10)"
   ]
  },
  {
   "cell_type": "code",
   "execution_count": 23,
   "metadata": {},
   "outputs": [],
   "source": [
    "RESULTS_NN=model.predict(DATA_check, batch_size=None, verbose=0, steps=None, callbacks=None, max_queue_size=10, workers=1, use_multiprocessing=False)\n"
   ]
  },
  {
   "cell_type": "code",
   "execution_count": 24,
   "metadata": {},
   "outputs": [
    {
     "data": {
      "image/png": "[encoded data removed]",
      "text/plain": [
       "<Figure size 576x288 with 2 Axes>"
      ]
     },
     "metadata": {
      "needs_background": "light"
     },
     "output_type": "display_data"
    }
   ],
   "source": [
    "import matplotlib.pyplot as plt\n",
    "fig, axs = plt.subplots(2,figsize=(8,4))\n",
    "plt.suptitle('NEURON NETWORK - 60 % OF TRAINNING \\n EXPECTED OUTPUT VS NN OUTPUT')\n",
    "\n",
    "x1=np.arange(len(RESULTS_NN))\n",
    "\n",
    "axs[1].scatter(x1,RESULTS_NN, marker='o',label=\"CORRECT OUTUPTS\")\n",
    "axs[0].scatter(x1,RESULTS_check,label=\"NN OUTUPTS\")\n",
    "axs[1].set_xlabel('INPUT')\n",
    "axs[0].set_ylabel('OUTPUT')\n",
    "#plt.tight_layout()\n",
    "plt.show()"
   ]
  },
  {
   "cell_type": "code",
   "execution_count": 25,
   "metadata": {},
   "outputs": [
    {
     "data": {
      "image/png": "[encoded data removed]",
      "text/plain": [
       "<Figure size 432x288 with 1 Axes>"
      ]
     },
     "metadata": {
      "needs_background": "light"
     },
     "output_type": "display_data"
    }
   ],
   "source": [
    "ERRO=np.fabs(RESULTS_check-RESULTS_NN)\n",
    "plt.hist(ERRO,bins=30)\n",
    "plt.title(\"DISTRIBUITION \\nOF\\n THE DIFERENCE BETWEEN NN OUTPUT AND THE EXACT VALUES \")\n",
    "plt.ylabel('FREQUENCY')\n",
    "plt.xlabel('ERRO')\n",
    "plt.style.use('seaborn-dark-palette')\n",
    "plt.show()"
   ]
  },
  {
   "cell_type": "code",
   "execution_count": null,
   "metadata": {},
   "outputs": [],
   "source": []
  }
 ],
 "metadata": {
  "kernelspec": {
   "display_name": "Python 3",
   "language": "python",
   "name": "python3"
  },
  "language_info": {
   "codemirror_mode": {
    "name": "ipython",
    "version": 3
   },
   "file_extension": ".py",
   "mimetype": "text/x-python",
   "name": "python",
   "nbconvert_exporter": "python",
   "pygments_lexer": "ipython3",
   "version": "3.7.3"
  }
 },
 "nbformat": 4,
 "nbformat_minor": 2
}
