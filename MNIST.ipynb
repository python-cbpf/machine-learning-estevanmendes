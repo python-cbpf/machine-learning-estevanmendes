{
 "cells": [
  {
   "cell_type": "code",
   "execution_count": 16,
   "metadata": {},
   "outputs": [],
   "source": [
    "from mnist import MNIST\n",
    "import numpy as np\n",
    "class MNIST():\n",
    "    def __init__(self):\n",
    "        mnist = MNIST('dataset/MNIST')\n",
    "        self.x_train, self.y_train = mnist.load_training() #60000 samples\n",
    "        self.x_test, self.y_test = mnist.load_testing()    #10000 samples\n",
    "    def IMAGE_IN_ARRAY(self):\n",
    "        x_train = np.asarray(self.x_train).astype(np.float32)\n",
    "        y_train = np.asarray(self.y_train).astype(np.int32)\n",
    "        x_test = np.asarray(self.x_test).astype(np.float32)\n",
    "        y_test = np.asarray(self.y_test).astype(np.int32)"
   ]
  }
 ],
 "metadata": {
  "kernelspec": {
   "display_name": "Python 3",
   "language": "python",
   "name": "python3"
  },
  "language_info": {
   "codemirror_mode": {
    "name": "ipython",
    "version": 3
   },
   "file_extension": ".py",
   "mimetype": "text/x-python",
   "name": "python",
   "nbconvert_exporter": "python",
   "pygments_lexer": "ipython3",
   "version": "3.7.3"
  }
 },
 "nbformat": 4,
 "nbformat_minor": 2
}
