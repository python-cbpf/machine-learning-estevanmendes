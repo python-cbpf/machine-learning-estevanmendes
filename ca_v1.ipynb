{
 "cells": [
  {
   "cell_type": "code",
   "execution_count": 10,
   "metadata": {},
   "outputs": [],
   "source": [
    "import random as rd\n",
    "import numpy as np\n",
    "\n",
    "class CA():\n",
    "  #PI - PADRAO INICIAL / NG=número de Gerações/ rg= regra\n",
    "\n",
    "  def __init__(self,grid,rg,IP=0,BC=1):\n",
    "\n",
    "    #transforma o valor da regra no código da REGRA\n",
    "    self.grid=grid\n",
    "    rg=list(bin(rg))    \n",
    "    x1=np.zeros((8))\n",
    "    for i in range(0,len(rg)-1):\n",
    "      x1[i-1]=rg[-i]\n",
    "    self.rg=x1\n",
    "    if IP==0: #condições inciais aleatórias\n",
    "      PI=np.random.randint(2, size=grid)    \n",
    "    if IP==1: #condição incial ponto no meio\n",
    "      PI=np.zeros((grid))\n",
    "      PI[int(grid%2+grid/2-1)]=1\n",
    "    self.PI=PI\n",
    "    self.BC=BC\n",
    "    \n",
    "     \n",
    "\n",
    "  def evo(self,NG): #loop das próximas gerações \n",
    "    grid=self.grid\n",
    "    rule=self.rg\n",
    "    BC=self.BC\n",
    "    IP=self.PI\n",
    "    if BC==1: #Condicoes de contorno periodicas\n",
    "     MA=np.zeros((NG,grid))\n",
    "     MA[0,:]=self.PI  \n",
    "     stt=0\n",
    "     end=grid        \n",
    "    if BC==0: #Condicoes de contorno 0\n",
    "     MA=np.zeros((NG,grid+2))\n",
    "     MA[0,1:-1]=self.PI \n",
    "     stt=1\n",
    "     end=grid+1\n",
    "    for i in range(1,NG):\n",
    "      for u in range(stt,end):\n",
    "        y1=str(int(MA[i-1,u-1]))+str(int(MA[i-1,u]))+str(int(MA[i-1,(u+1)%grid]))\n",
    "        y1=int(y1,2)\n",
    "        MA[i,u]=rule[y1]\n",
    "                   \n",
    "    return IP,MA\n",
    "\n",
    "\n",
    "\n"
   ]
  }
 ],
 "metadata": {
  "kernelspec": {
   "display_name": "Python 3",
   "language": "python",
   "name": "python3"
  },
  "language_info": {
   "codemirror_mode": {
    "name": "ipython",
    "version": 3
   },
   "file_extension": ".py",
   "mimetype": "text/x-python",
   "name": "python",
   "nbconvert_exporter": "python",
   "pygments_lexer": "ipython3",
   "version": "3.7.3"
  }
 },
 "nbformat": 4,
 "nbformat_minor": 2
}
