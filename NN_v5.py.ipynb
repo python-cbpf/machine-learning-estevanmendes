{
 "cells": [
  {
   "cell_type": "code",
   "execution_count": 1,
   "metadata": {
    "slideshow": {
     "slide_type": "skip"
    }
   },
   "outputs": [
    {
     "name": "stderr",
     "output_type": "stream",
     "text": [
      "Using TensorFlow backend.\n"
     ]
    }
   ],
   "source": [
    "from ca_v1 import CA\n",
    "import numpy as np\n",
    "import keras as k\n",
    "from keras.models import Sequential\n",
    "from keras.layers import Dense, Dropout\n",
    "from keras.optimizers import RMSprop\n",
    "import matplotlib.pyplot as plt"
   ]
  },
  {
   "cell_type": "code",
   "execution_count": 103,
   "metadata": {
    "slideshow": {
     "slide_type": "slide"
    }
   },
   "outputs": [
    {
     "data": {
      "image/png": "[encoded data removed]",
      "text/plain": [
       "<Figure size 432x288 with 1 Axes>"
      ]
     },
     "metadata": {
      "needs_background": "light"
     },
     "output_type": "display_data"
    }
   ],
   "source": [
    "#OS DADOS A RESPEITO DO AUTOMATO CELULAR SÂO CRIADOS POR MEIO DE UMA CLASSE EM OUTRO ARQUIVO\n",
    "rule=90\n",
    "updt=20\n",
    "grid=10\n",
    "N_data=1000\n",
    "DATA=np.zeros((N_data,grid))\n",
    "RESULTS=np.zeros((N_data,grid))\n",
    "for i in range(N_data):\n",
    "    C_A=CA(grid,rule,0,BC=1)\n",
    "    FM=np.array(C_A.evo(updt))\n",
    "    DATA[i,:]=FM[0,:]\n",
    "    RESULTS[i,]=FM[-1,:]\n"
   ]
  },
  {
   "cell_type": "code",
   "execution_count": 16,
   "metadata": {
    "slideshow": {
     "slide_type": "skip"
    }
   },
   "outputs": [],
   "source": [
    "model = Sequential()"
   ]
  },
  {
   "cell_type": "code",
   "execution_count": 17,
   "metadata": {
    "slideshow": {
     "slide_type": "skip"
    }
   },
   "outputs": [],
   "source": [
    "model.add(Dense(15,activation='relu',use_bias=True, input_dim=grid))"
   ]
  },
  {
   "cell_type": "code",
   "execution_count": 18,
   "metadata": {
    "slideshow": {
     "slide_type": "skip"
    }
   },
   "outputs": [],
   "source": [
    "model.add(Dense(15,activation='relu'))"
   ]
  },
  {
   "cell_type": "code",
   "execution_count": 19,
   "metadata": {
    "slideshow": {
     "slide_type": "skip"
    }
   },
   "outputs": [],
   "source": [
    "model.add(Dense(grid,activation='sigmoid'))"
   ]
  },
  {
   "cell_type": "code",
   "execution_count": 20,
   "metadata": {
    "slideshow": {
     "slide_type": "skip"
    }
   },
   "outputs": [
    {
     "name": "stdout",
     "output_type": "stream",
     "text": [
      "Model: \"sequential_2\"\n",
      "_________________________________________________________________\n",
      "Layer (type)                 Output Shape              Param #   \n",
      "=================================================================\n",
      "dense_4 (Dense)              (None, 15)                165       \n",
      "_________________________________________________________________\n",
      "dense_5 (Dense)              (None, 15)                240       \n",
      "_________________________________________________________________\n",
      "dense_6 (Dense)              (None, 10)                160       \n",
      "=================================================================\n",
      "Total params: 565\n",
      "Trainable params: 565\n",
      "Non-trainable params: 0\n",
      "_________________________________________________________________\n"
     ]
    }
   ],
   "source": [
    "model.summary()\n",
    "model.compile(optimizer='rmsprop', loss='binary_crossentropy', metrics=['accuracy'])\n"
   ]
  },
  {
   "cell_type": "code",
   "execution_count": 21,
   "metadata": {
    "slideshow": {
     "slide_type": "skip"
    }
   },
   "outputs": [],
   "source": [
    "END=int(len(DATA)*0.9)#UTILIZA-SE 90% DOS DADOS PARA O TREINAMENTO\n",
    "DATA_trainning=DATA[:END,:]\n",
    "RESULTS_trainning=RESULTS[:END,:]\n",
    "DATA_check=DATA[END:,:]\n",
    "RESULTS_check=RESULTS[END:,:]\n"
   ]
  },
  {
   "cell_type": "code",
   "execution_count": 27,
   "metadata": {
    "scrolled": true,
    "slideshow": {
     "slide_type": "skip"
    }
   },
   "outputs": [
    {
     "name": "stdout",
     "output_type": "stream",
     "text": [
      "Train on 810 samples, validate on 90 samples\n",
      "Epoch 1/50\n",
      "810/810 [==============================] - 0s 385us/step - loss: 0.0546 - accuracy: 0.9702 - val_loss: 0.0583 - val_accuracy: 0.9667\n",
      "Epoch 2/50\n",
      "810/810 [==============================] - 0s 376us/step - loss: 0.0546 - accuracy: 0.9700 - val_loss: 0.0578 - val_accuracy: 0.9689\n",
      "Epoch 3/50\n",
      "810/810 [==============================] - 0s 367us/step - loss: 0.0540 - accuracy: 0.9695 - val_loss: 0.0580 - val_accuracy: 0.9711\n",
      "Epoch 4/50\n",
      "810/810 [==============================] - 0s 343us/step - loss: 0.0538 - accuracy: 0.9712 - val_loss: 0.0614 - val_accuracy: 0.9700\n",
      "Epoch 5/50\n",
      "810/810 [==============================] - 0s 375us/step - loss: 0.0535 - accuracy: 0.9710 - val_loss: 0.0578 - val_accuracy: 0.9722\n",
      "Epoch 6/50\n",
      "810/810 [==============================] - 0s 375us/step - loss: 0.0533 - accuracy: 0.9714 - val_loss: 0.0570 - val_accuracy: 0.9711\n",
      "Epoch 7/50\n",
      "810/810 [==============================] - 0s 462us/step - loss: 0.0531 - accuracy: 0.9731 - val_loss: 0.0564 - val_accuracy: 0.9711\n",
      "Epoch 8/50\n",
      "810/810 [==============================] - 0s 323us/step - loss: 0.0530 - accuracy: 0.9717 - val_loss: 0.0559 - val_accuracy: 0.9744\n",
      "Epoch 9/50\n",
      "810/810 [==============================] - 0s 383us/step - loss: 0.0525 - accuracy: 0.9737 - val_loss: 0.0562 - val_accuracy: 0.9711\n",
      "Epoch 10/50\n",
      "810/810 [==============================] - 0s 328us/step - loss: 0.0520 - accuracy: 0.9726 - val_loss: 0.0568 - val_accuracy: 0.9722\n",
      "Epoch 11/50\n",
      "810/810 [==============================] - 0s 309us/step - loss: 0.0523 - accuracy: 0.9733 - val_loss: 0.0551 - val_accuracy: 0.9733\n",
      "Epoch 12/50\n",
      "810/810 [==============================] - 0s 324us/step - loss: 0.0519 - accuracy: 0.9738 - val_loss: 0.0552 - val_accuracy: 0.9722\n",
      "Epoch 13/50\n",
      "810/810 [==============================] - 0s 310us/step - loss: 0.0516 - accuracy: 0.9743 - val_loss: 0.0539 - val_accuracy: 0.9733\n",
      "Epoch 14/50\n",
      "810/810 [==============================] - 0s 316us/step - loss: 0.0514 - accuracy: 0.9743 - val_loss: 0.0549 - val_accuracy: 0.9733\n",
      "Epoch 15/50\n",
      "810/810 [==============================] - 0s 374us/step - loss: 0.0510 - accuracy: 0.9759 - val_loss: 0.0537 - val_accuracy: 0.9722\n",
      "Epoch 16/50\n",
      "810/810 [==============================] - 0s 310us/step - loss: 0.0510 - accuracy: 0.9748 - val_loss: 0.0531 - val_accuracy: 0.9733\n",
      "Epoch 17/50\n",
      "810/810 [==============================] - 0s 316us/step - loss: 0.0506 - accuracy: 0.9748 - val_loss: 0.0528 - val_accuracy: 0.9733\n",
      "Epoch 18/50\n",
      "810/810 [==============================] - 0s 314us/step - loss: 0.0503 - accuracy: 0.9747 - val_loss: 0.0542 - val_accuracy: 0.9744\n",
      "Epoch 19/50\n",
      "810/810 [==============================] - 0s 312us/step - loss: 0.0502 - accuracy: 0.9756 - val_loss: 0.0510 - val_accuracy: 0.9733\n",
      "Epoch 20/50\n",
      "810/810 [==============================] - 0s 441us/step - loss: 0.0500 - accuracy: 0.9764 - val_loss: 0.0521 - val_accuracy: 0.9722\n",
      "Epoch 21/50\n",
      "810/810 [==============================] - 0s 317us/step - loss: 0.0497 - accuracy: 0.9758 - val_loss: 0.0523 - val_accuracy: 0.9744\n",
      "Epoch 22/50\n",
      "810/810 [==============================] - 0s 299us/step - loss: 0.0496 - accuracy: 0.9767 - val_loss: 0.0516 - val_accuracy: 0.9744\n",
      "Epoch 23/50\n",
      "810/810 [==============================] - 0s 312us/step - loss: 0.0493 - accuracy: 0.9762 - val_loss: 0.0516 - val_accuracy: 0.9744\n",
      "Epoch 24/50\n",
      "810/810 [==============================] - 0s 303us/step - loss: 0.0492 - accuracy: 0.9762 - val_loss: 0.0502 - val_accuracy: 0.9767\n",
      "Epoch 25/50\n",
      "810/810 [==============================] - 0s 313us/step - loss: 0.0489 - accuracy: 0.9768 - val_loss: 0.0505 - val_accuracy: 0.9756\n",
      "Epoch 26/50\n",
      "810/810 [==============================] - 0s 319us/step - loss: 0.0486 - accuracy: 0.9768 - val_loss: 0.0512 - val_accuracy: 0.9756\n",
      "Epoch 27/50\n",
      "810/810 [==============================] - 0s 306us/step - loss: 0.0485 - accuracy: 0.9778 - val_loss: 0.0496 - val_accuracy: 0.9767\n",
      "Epoch 28/50\n",
      "810/810 [==============================] - 0s 386us/step - loss: 0.0483 - accuracy: 0.9774 - val_loss: 0.0502 - val_accuracy: 0.9756\n",
      "Epoch 29/50\n",
      "810/810 [==============================] - 0s 433us/step - loss: 0.0480 - accuracy: 0.9775 - val_loss: 0.0490 - val_accuracy: 0.9756\n",
      "Epoch 30/50\n",
      "810/810 [==============================] - 0s 335us/step - loss: 0.0479 - accuracy: 0.9777 - val_loss: 0.0482 - val_accuracy: 0.9767\n",
      "Epoch 31/50\n",
      "810/810 [==============================] - 0s 346us/step - loss: 0.0477 - accuracy: 0.9765 - val_loss: 0.0490 - val_accuracy: 0.9756\n",
      "Epoch 32/50\n",
      "810/810 [==============================] - 0s 407us/step - loss: 0.0475 - accuracy: 0.9775 - val_loss: 0.0489 - val_accuracy: 0.9778\n",
      "Epoch 33/50\n",
      "810/810 [==============================] - 0s 356us/step - loss: 0.0472 - accuracy: 0.9777 - val_loss: 0.0507 - val_accuracy: 0.9756\n",
      "Epoch 34/50\n",
      "810/810 [==============================] - 0s 309us/step - loss: 0.0471 - accuracy: 0.9779 - val_loss: 0.0486 - val_accuracy: 0.9767\n",
      "Epoch 35/50\n",
      "810/810 [==============================] - 0s 301us/step - loss: 0.0469 - accuracy: 0.9785 - val_loss: 0.0496 - val_accuracy: 0.9756\n",
      "Epoch 36/50\n",
      "810/810 [==============================] - 0s 306us/step - loss: 0.0467 - accuracy: 0.9783 - val_loss: 0.0519 - val_accuracy: 0.9756\n",
      "Epoch 37/50\n",
      "810/810 [==============================] - 0s 311us/step - loss: 0.0464 - accuracy: 0.9784 - val_loss: 0.0479 - val_accuracy: 0.9767\n",
      "Epoch 38/50\n",
      "810/810 [==============================] - 0s 325us/step - loss: 0.0464 - accuracy: 0.9779 - val_loss: 0.0473 - val_accuracy: 0.9756\n",
      "Epoch 39/50\n",
      "810/810 [==============================] - 0s 315us/step - loss: 0.0461 - accuracy: 0.9786 - val_loss: 0.0461 - val_accuracy: 0.9778\n",
      "Epoch 40/50\n",
      "810/810 [==============================] - 0s 312us/step - loss: 0.0458 - accuracy: 0.9789 - val_loss: 0.0473 - val_accuracy: 0.9756\n",
      "Epoch 41/50\n",
      "810/810 [==============================] - 0s 306us/step - loss: 0.0458 - accuracy: 0.9780 - val_loss: 0.0454 - val_accuracy: 0.9811\n",
      "Epoch 42/50\n",
      "810/810 [==============================] - 0s 302us/step - loss: 0.0455 - accuracy: 0.9788 - val_loss: 0.0451 - val_accuracy: 0.9811\n",
      "Epoch 43/50\n",
      "810/810 [==============================] - 0s 302us/step - loss: 0.0451 - accuracy: 0.9786 - val_loss: 0.0448 - val_accuracy: 0.9811\n",
      "Epoch 44/50\n",
      "810/810 [==============================] - 0s 309us/step - loss: 0.0451 - accuracy: 0.9798 - val_loss: 0.0452 - val_accuracy: 0.9778\n",
      "Epoch 45/50\n",
      "810/810 [==============================] - 0s 365us/step - loss: 0.0449 - accuracy: 0.9788 - val_loss: 0.0442 - val_accuracy: 0.9811\n",
      "Epoch 46/50\n",
      "810/810 [==============================] - 0s 339us/step - loss: 0.0446 - accuracy: 0.9799 - val_loss: 0.0456 - val_accuracy: 0.9767\n",
      "Epoch 47/50\n",
      "810/810 [==============================] - 0s 302us/step - loss: 0.0442 - accuracy: 0.9801 - val_loss: 0.0441 - val_accuracy: 0.9811\n",
      "Epoch 48/50\n",
      "810/810 [==============================] - 0s 308us/step - loss: 0.0444 - accuracy: 0.9784 - val_loss: 0.0433 - val_accuracy: 0.9789\n",
      "Epoch 49/50\n",
      "810/810 [==============================] - 0s 312us/step - loss: 0.0442 - accuracy: 0.9795 - val_loss: 0.0441 - val_accuracy: 0.9778\n",
      "Epoch 50/50\n",
      "810/810 [==============================] - 0s 310us/step - loss: 0.0441 - accuracy: 0.9799 - val_loss: 0.0432 - val_accuracy: 0.9800\n"
     ]
    },
    {
     "data": {
      "text/plain": [
       "<keras.callbacks.callbacks.History at 0x7f709c1512e8>"
      ]
     },
     "execution_count": 27,
     "metadata": {},
     "output_type": "execute_result"
    }
   ],
   "source": [
    "model.fit(DATA_trainning,RESULTS_trainning, epochs=50, batch_size=10, validation_split=0.1)"
   ]
  },
  {
   "cell_type": "code",
   "execution_count": 66,
   "metadata": {
    "slideshow": {
     "slide_type": "skip"
    }
   },
   "outputs": [
    {
     "name": "stdout",
     "output_type": "stream",
     "text": [
      "[[1.81849226e-02 1.00000000e+00 1.00000000e+00 6.77585527e-02\n",
      "  4.41968301e-03 9.97859061e-01 9.75575620e-10 4.58887977e-15\n",
      "  9.96129513e-01 5.10505743e-05]\n",
      " [2.35127845e-05 9.99464929e-01 2.19255671e-08 4.76145744e-01\n",
      "  9.99999762e-01 3.91833633e-02 9.99999762e-01 1.31406993e-01\n",
      "  1.63754084e-04 4.33188052e-06]\n",
      " [9.98000085e-01 9.99640584e-01 9.97540832e-01 8.53916883e-01\n",
      "  1.40224562e-20 1.14621095e-01 3.64548992e-03 1.00000000e+00\n",
      "  6.21187091e-02 1.00000000e+00]\n",
      " [9.99710977e-01 2.66016347e-08 4.16947530e-14 4.37127054e-01\n",
      "  9.25786765e-07 9.88885283e-01 2.88885499e-14 9.64001298e-01\n",
      "  9.99975443e-01 2.07680514e-05]\n",
      " [1.36271346e-05 1.16184056e-04 1.00000000e+00 9.97221828e-01\n",
      "  1.00000000e+00 9.99934077e-01 1.00000000e+00 1.00000000e+00\n",
      "  9.90079522e-01 1.00000000e+00]\n",
      " [1.00000000e+00 1.81713328e-02 5.70786833e-05 8.88898790e-01\n",
      "  1.00000000e+00 1.00000000e+00 1.00000000e+00 2.11909381e-14\n",
      "  9.99139309e-01 2.95825266e-05]\n",
      " [7.29390013e-05 9.99987006e-01 1.67260005e-05 4.56216216e-01\n",
      "  1.00000000e+00 1.06669344e-01 1.55609325e-12 2.90372263e-04\n",
      "  9.99580443e-01 1.93787599e-07]\n",
      " [1.26689326e-09 8.53196525e-06 9.99130070e-01 7.27361500e-01\n",
      "  1.53595702e-05 9.16629881e-02 2.21679116e-11 1.00000000e+00\n",
      "  9.99912381e-01 8.06397729e-05]\n",
      " [1.72822678e-03 3.49843681e-21 1.19099626e-03 9.86337602e-01\n",
      "  7.62444222e-03 1.00000000e+00 9.90794122e-01 1.00000000e+00\n",
      "  9.62764442e-01 9.91903484e-01]\n",
      " [1.00000000e+00 9.99864340e-01 6.94057256e-10 6.37831807e-01\n",
      "  2.72413345e-05 9.19506907e-01 1.62580900e-08 6.63742959e-01\n",
      "  9.96487260e-01 9.97305393e-01]\n",
      " [9.99998927e-01 1.48720966e-12 2.36592023e-13 9.94228959e-01\n",
      "  3.43837780e-09 1.00000000e+00 9.99688506e-01 1.00000000e+00\n",
      "  3.29739385e-04 9.93570447e-01]\n",
      " [5.03979936e-06 9.90010679e-01 9.95056510e-01 1.26927540e-01\n",
      "  9.75837529e-01 8.85624672e-07 4.71308967e-03 9.67291474e-01\n",
      "  8.67560506e-02 1.85773330e-04]\n",
      " [9.99991417e-01 7.85607857e-10 8.08923623e-11 2.41950169e-01\n",
      "  4.65276687e-19 2.56694436e-01 1.00000000e+00 1.56338126e-06\n",
      "  1.21919753e-03 9.99966383e-01]\n",
      " [9.95719850e-01 1.00000000e+00 9.99993086e-01 9.92290676e-01\n",
      "  9.99999881e-01 1.00000000e+00 1.00000000e+00 9.28344607e-01\n",
      "  2.04362231e-03 2.91647725e-02]\n",
      " [9.99992132e-01 9.99989271e-01 1.35819446e-15 3.52573961e-01\n",
      "  1.77228958e-06 9.68072414e-01 3.94736354e-13 2.91234311e-12\n",
      "  9.99773443e-01 6.36838934e-07]\n",
      " [5.80669206e-04 5.32043089e-07 3.09459749e-11 5.59876680e-01\n",
      "  1.41859493e-06 9.89248991e-01 7.59670502e-06 8.92809987e-01\n",
      "  3.26960901e-04 6.33946911e-04]\n",
      " [1.11663940e-04 9.99878764e-01 9.39799702e-06 3.51269394e-01\n",
      "  1.00000000e+00 5.38719371e-02 1.00000000e+00 1.04023772e-03\n",
      "  7.09871994e-04 2.94623487e-06]\n",
      " [2.03899853e-03 1.00000000e+00 9.99978662e-01 9.96431470e-01\n",
      "  6.78209653e-06 1.00000000e+00 9.99999881e-01 9.99074936e-01\n",
      "  1.22169906e-03 2.13393942e-03]\n",
      " [9.99999523e-01 1.00000000e+00 6.14487627e-11 7.38718033e-01\n",
      "  1.27698944e-18 1.68185420e-02 1.00000000e+00 1.00000000e+00\n",
      "  4.08647698e-04 9.99893904e-01]\n",
      " [2.59718121e-07 9.99913454e-01 9.99998927e-01 9.53828931e-01\n",
      "  6.90860346e-12 1.00000000e+00 1.00000000e+00 2.32423808e-05\n",
      "  1.77740421e-05 1.00000000e+00]\n",
      " [5.78486652e-04 2.88575047e-05 5.25133160e-04 5.83016984e-02\n",
      "  3.05434924e-07 1.57774593e-08 9.99387145e-01 1.70562416e-02\n",
      "  9.98168111e-01 2.01328716e-04]\n",
      " [9.99544799e-01 1.91747702e-08 9.99999404e-01 2.20049649e-01\n",
      "  9.99977589e-01 9.89529192e-01 1.00000000e+00 4.95788078e-16\n",
      "  6.06928999e-03 9.99998569e-01]\n",
      " [3.86402417e-06 9.98846650e-01 1.00000000e+00 4.00508195e-01\n",
      "  1.00000000e+00 2.11365055e-02 9.99999881e-01 4.29656962e-03\n",
      "  9.96008277e-01 2.06489085e-06]\n",
      " [1.00000000e+00 2.69486860e-04 9.99999285e-01 2.99363583e-01\n",
      "  9.99998927e-01 9.84402895e-01 7.85841525e-14 2.39423895e-16\n",
      "  9.99906182e-01 1.00000000e+00]\n",
      " [9.99444306e-01 4.77781985e-03 9.99999285e-01 9.19444323e-01\n",
      "  1.00000000e+00 1.00000000e+00 1.00000000e+00 3.97480388e-13\n",
      "  1.52139622e-03 2.98469560e-03]\n",
      " [9.99998689e-01 8.14578982e-07 5.04742866e-06 6.58810854e-01\n",
      "  1.00000000e+00 1.20674431e-01 1.00000000e+00 1.00000000e+00\n",
      "  9.99965787e-01 3.20716026e-05]\n",
      " [9.99650955e-01 9.99023557e-01 6.84137288e-16 9.33514759e-02\n",
      "  4.87584828e-07 1.06055694e-07 8.22622732e-13 9.96289015e-01\n",
      "  9.99915600e-01 6.53130940e-07]\n",
      " [9.99963403e-01 9.99911666e-01 1.82296872e-14 9.60019171e-01\n",
      "  9.99994874e-01 1.00000000e+00 3.20538311e-06 1.98914859e-06\n",
      "  8.44893104e-04 1.00000000e+00]\n",
      " [2.18909172e-05 1.00000000e+00 9.99999642e-01 3.26009244e-01\n",
      "  8.84911075e-15 1.47659004e-01 1.00000000e+00 9.80341583e-02\n",
      "  3.45032786e-05 5.43967435e-05]\n",
      " [1.00000000e+00 9.99999881e-01 1.67936616e-06 9.95416284e-01\n",
      "  1.00000000e+00 1.00000000e+00 1.00000000e+00 9.50099587e-01\n",
      "  9.93708253e-01 1.55265327e-04]\n",
      " [1.03794655e-05 3.83904945e-18 1.00000000e+00 1.05019033e-01\n",
      "  1.00000000e+00 7.90590065e-08 1.00000000e+00 9.99995708e-01\n",
      "  9.99285400e-01 9.99962926e-01]\n",
      " [9.99846697e-01 8.41683413e-06 2.01080645e-15 5.87418199e-01\n",
      "  6.16778891e-07 9.34864655e-02 5.10396304e-13 1.00000000e+00\n",
      "  9.99956846e-01 9.85366714e-05]\n",
      " [9.91240203e-01 9.76607144e-01 9.99998450e-01 9.13652956e-01\n",
      "  9.99999762e-01 1.00000000e+00 1.00000000e+00 2.39102815e-06\n",
      "  1.86162360e-03 1.00000000e+00]\n",
      " [4.17921285e-04 1.00000000e+00 6.04357453e-08 6.49331212e-02\n",
      "  1.25515334e-13 9.91037726e-01 2.73602763e-09 7.59169135e-14\n",
      "  1.03060142e-04 1.04030441e-04]\n",
      " [1.20447510e-07 5.15158654e-08 9.99999523e-01 8.53856564e-01\n",
      "  3.77693501e-11 1.00000000e+00 1.00000000e+00 9.83904814e-04\n",
      "  4.24895552e-05 1.24129638e-05]\n",
      " [3.23932561e-08 6.77479999e-19 1.00000000e+00 3.35756689e-01\n",
      "  9.99309659e-01 1.28092542e-01 9.99999881e-01 8.07420838e-06\n",
      "  9.98981178e-01 9.99368370e-01]\n",
      " [9.99788821e-01 6.70560894e-06 9.99998927e-01 4.63495523e-01\n",
      "  1.00000000e+00 9.91250396e-01 1.00000000e+00 8.20269704e-01\n",
      "  4.61489195e-03 2.08964557e-04]\n",
      " [1.54155167e-03 2.84423213e-03 9.99821603e-01 6.84467375e-01\n",
      "  3.25448578e-04 1.32027820e-01 1.00000000e+00 1.00000000e+00\n",
      "  1.30236894e-02 1.52002135e-03]\n",
      " [9.52002520e-05 7.59346392e-07 1.68930390e-04 5.97302675e-01\n",
      "  1.00000000e+00 9.95427728e-01 1.39610193e-13 9.91443098e-01\n",
      "  9.99822080e-01 1.07984088e-05]\n",
      " [9.98921275e-01 2.45143240e-03 9.98419881e-01 7.40626395e-01\n",
      "  2.21544527e-20 2.98376560e-01 4.31436859e-03 1.00000000e+00\n",
      "  8.21826309e-02 1.16530294e-03]\n",
      " [1.00000000e+00 5.10664517e-03 6.14190139e-06 9.98314381e-01\n",
      "  1.00000000e+00 9.99994516e-01 1.00000000e+00 1.00000000e+00\n",
      "  9.96102929e-01 1.00000000e+00]\n",
      " [3.62906791e-03 1.00000000e+00 1.09431975e-09 6.94162309e-01\n",
      "  3.03925447e-07 7.89178669e-01 1.22928157e-06 9.97328162e-01\n",
      "  5.37607302e-05 9.99558508e-01]\n",
      " [1.00000000e+00 7.91289508e-02 9.99981642e-01 9.01262283e-01\n",
      "  9.99992132e-01 1.00000000e+00 1.12001373e-10 3.98649238e-15\n",
      "  9.99965668e-01 2.00801500e-04]\n",
      " [9.99974012e-01 3.54755780e-09 1.05572621e-13 4.04252350e-01\n",
      "  9.99959588e-01 9.88538921e-01 2.74451275e-04 3.67608869e-15\n",
      "  1.74978608e-03 9.99975324e-01]\n",
      " [2.14396000e-01 2.54601426e-02 9.37410593e-01 1.36733994e-01\n",
      "  7.02316687e-02 7.39830575e-05 1.56043461e-05 2.12483350e-02\n",
      "  1.59060389e-01 2.46756390e-01]\n",
      " [9.99587119e-01 9.99999881e-01 9.99960542e-01 6.90652251e-01\n",
      "  9.99480546e-01 9.61226821e-01 8.33876038e-06 9.95931685e-01\n",
      "  9.99997497e-01 9.98258412e-01]\n",
      " [9.67429340e-01 3.24214966e-06 9.92507041e-01 9.95687187e-01\n",
      "  1.47615583e-05 9.99999285e-01 9.68932756e-04 1.00000000e+00\n",
      "  1.88024957e-02 1.00000000e+00]\n",
      " [1.82551304e-07 9.99918580e-01 1.17195142e-03 8.47276002e-02\n",
      "  1.00000000e+00 1.86111715e-09 1.29984229e-12 1.61076337e-02\n",
      "  9.89963949e-01 9.99989986e-01]\n",
      " [3.91753616e-08 5.37862365e-18 1.18008978e-03 4.48247790e-01\n",
      "  9.99883771e-01 1.00681074e-01 4.11494111e-04 3.65164738e-06\n",
      "  9.99738276e-01 9.99091029e-01]\n",
      " [9.98148322e-01 9.49914331e-15 1.00109215e-14 8.40534195e-02\n",
      "  5.74716921e-07 3.25559739e-08 3.21866096e-13 9.99999285e-01\n",
      "  9.99905109e-01 9.99843240e-01]\n",
      " [1.00000000e+00 1.00000000e+00 2.33213359e-05 7.60329545e-01\n",
      "  9.99999881e-01 4.04199138e-02 1.00000000e+00 1.00000000e+00\n",
      "  9.99484539e-01 9.99292493e-01]\n",
      " [4.36278178e-08 1.18619770e-04 9.99998450e-01 5.75953387e-02\n",
      "  1.18183913e-16 6.12799624e-08 1.00000000e+00 2.21335585e-03\n",
      "  2.40994454e-03 8.77680257e-03]\n",
      " [9.99827623e-01 9.99444425e-01 7.93170640e-10 5.59830904e-01\n",
      "  6.80285313e-17 2.89680790e-02 1.00000000e+00 9.99963641e-01\n",
      "  7.77799683e-03 9.92098689e-01]\n",
      " [1.00000000e+00 4.75651585e-04 1.42166800e-06 6.76213562e-01\n",
      "  9.99999881e-01 9.76872921e-01 1.00000000e+00 9.98030961e-01\n",
      "  9.99783576e-01 1.76410413e-05]\n",
      " [1.26689326e-09 8.53196525e-06 9.99130070e-01 7.27361500e-01\n",
      "  1.53595702e-05 9.16629881e-02 2.21679116e-11 1.00000000e+00\n",
      "  9.99912381e-01 8.06397729e-05]\n",
      " [7.28032901e-05 3.82138787e-05 4.35030512e-10 1.19203798e-01\n",
      "  4.03411745e-04 1.93570713e-06 1.02418085e-06 1.02419063e-01\n",
      "  2.11183424e-03 8.04339722e-02]\n",
      " [2.46434784e-09 1.85978584e-04 9.91317272e-01 6.12307429e-01\n",
      "  9.99770463e-01 1.31433800e-01 1.92062533e-03 9.99999404e-01\n",
      "  1.01169699e-03 7.19890185e-03]\n",
      " [1.10218197e-01 1.00000000e+00 1.19069293e-02 5.52719347e-02\n",
      "  7.46197475e-04 9.70706284e-01 6.00480080e-01 1.96127836e-13\n",
      "  8.29845607e-01 2.13189323e-05]\n",
      " [9.99397993e-01 3.95281283e-08 9.99999762e-01 1.59328252e-01\n",
      "  9.99981046e-01 9.84846234e-01 1.00000000e+00 1.81979497e-16\n",
      "  1.10665092e-03 1.00000000e+00]\n",
      " [1.77631791e-05 2.09216567e-04 5.23547351e-04 7.03679681e-01\n",
      "  1.00000000e+00 6.10215142e-02 9.31331784e-15 9.14254859e-02\n",
      "  9.98282194e-01 1.00000000e+00]\n",
      " [9.99394298e-01 9.99746501e-01 9.99840260e-01 9.56161678e-01\n",
      "  9.97544706e-01 1.00000000e+00 1.59212777e-05 2.51206848e-06\n",
      "  9.99992251e-01 1.00000000e+00]\n",
      " [9.99127328e-01 9.98348236e-01 7.34204940e-15 9.84899640e-01\n",
      "  9.99999166e-01 1.00000000e+00 6.40898816e-06 1.00000000e+00\n",
      "  6.02827175e-03 1.03973400e-06]\n",
      " [1.36826129e-04 1.08208842e-09 1.40444101e-08 3.42465460e-01\n",
      "  4.86894189e-14 9.92883205e-01 7.31182467e-07 2.63569582e-14\n",
      "  1.43679371e-03 9.99983072e-01]\n",
      " [4.43653844e-04 1.99610259e-11 5.66309326e-12 1.85695425e-01\n",
      "  4.36891696e-06 8.11968334e-07 7.93711479e-06 9.99993920e-01\n",
      "  1.58416718e-04 9.99981999e-01]\n",
      " [9.78542469e-10 9.99687910e-01 9.99615431e-01 4.99191761e-01\n",
      "  1.09485391e-05 6.09722435e-02 8.11911129e-12 6.15124416e-04\n",
      "  9.99926209e-01 2.42332703e-07]\n",
      " [9.98148322e-01 9.49914331e-15 1.00109215e-14 8.40534195e-02\n",
      "  5.74716921e-07 3.25559739e-08 3.21866096e-13 9.99999285e-01\n",
      "  9.99905109e-01 9.99843240e-01]\n",
      " [1.00000000e+00 8.57320356e-06 1.72238068e-14 6.28971875e-01\n",
      "  9.97641649e-08 2.05745026e-02 9.99507546e-01 1.01499539e-02\n",
      "  4.64278419e-05 1.00000000e+00]\n",
      " [9.97175813e-01 3.46288085e-04 9.99965906e-01 5.48648201e-02\n",
      "  1.00000000e+00 5.80816959e-08 1.00000000e+00 1.50786492e-03\n",
      "  8.38398095e-03 4.96855974e-02]\n",
      " [2.86784302e-03 1.00000000e+00 9.99988437e-01 8.39351237e-01\n",
      "  3.16050078e-04 1.81053523e-02 9.99999881e-01 1.00000000e+00\n",
      "  9.49128473e-04 9.99982476e-01]\n",
      " [3.04818030e-07 9.99941707e-01 5.33019556e-05 1.13172166e-01\n",
      "  1.00000000e+00 9.30979240e-06 7.88796857e-14 1.09378969e-04\n",
      "  9.98708248e-01 9.99992371e-01]\n",
      " [8.20509013e-05 9.97461915e-01 1.00000000e+00 8.09450090e-01\n",
      "  1.64023915e-03 7.60627463e-02 6.89958313e-08 9.99998450e-01\n",
      "  9.99641418e-01 1.00000000e+00]\n",
      " [9.99903679e-01 1.00000000e+00 9.99999881e-01 5.91398999e-02\n",
      "  9.99992728e-01 9.97075796e-01 1.00000000e+00 2.72672527e-15\n",
      "  7.15286296e-04 2.51495425e-04]\n",
      " [9.04687308e-03 3.09827684e-11 8.64392377e-11 2.55761683e-01\n",
      "  2.93015660e-06 9.59397018e-01 4.15402501e-05 1.40347933e-16\n",
      "  4.03738632e-05 9.99996424e-01]\n",
      " [7.12721885e-07 2.23682946e-07 1.00000000e+00 3.52880321e-02\n",
      "  9.99958873e-01 4.36916298e-06 1.00000000e+00 5.98351355e-04\n",
      "  9.99424696e-01 1.97711997e-05]\n",
      " [1.36826129e-04 1.08208842e-09 1.40444101e-08 3.42465460e-01\n",
      "  4.86894189e-14 9.92883205e-01 7.31182467e-07 2.63569582e-14\n",
      "  1.43679371e-03 9.99983072e-01]\n",
      " [1.63372242e-05 9.99997377e-01 4.97517176e-05 9.77637768e-01\n",
      "  1.00000000e+00 1.00000000e+00 9.99999642e-01 3.42925079e-15\n",
      "  2.24271153e-05 9.99994874e-01]\n",
      " [9.99997735e-01 9.94495094e-01 2.72213189e-11 6.55197576e-02\n",
      "  2.82903977e-20 2.52813879e-05 1.00000000e+00 1.02995800e-04\n",
      "  2.63300096e-03 9.99945164e-01]\n",
      " [1.00000000e+00 2.39482224e-02 2.50910387e-15 7.80993640e-01\n",
      "  4.99526145e-08 9.19241607e-01 9.99996781e-01 9.97927308e-01\n",
      "  2.09707068e-04 1.03623926e-04]\n",
      " [1.00000000e+00 9.99907732e-01 1.00000000e+00 1.05549686e-01\n",
      "  9.27019989e-11 5.08866416e-09 1.00000000e+00 6.30939438e-04\n",
      "  9.99944091e-01 9.99929070e-01]\n",
      " [9.99977469e-01 1.00000000e+00 9.99999642e-01 2.36814827e-01\n",
      "  1.00000000e+00 8.12115520e-02 1.00000000e+00 8.64096265e-03\n",
      "  3.25693458e-04 1.02083519e-04]\n",
      " [1.00000000e+00 9.91238892e-01 1.88346417e-06 9.93106425e-01\n",
      "  1.00000000e+00 1.00000000e+00 1.00000000e+00 1.00000000e+00\n",
      "  9.99225736e-01 3.48499207e-09]\n",
      " [1.81159758e-05 9.99999881e-01 1.06030660e-04 1.21762611e-01\n",
      "  1.00000000e+00 8.92967389e-09 1.00000000e+00 1.41423047e-02\n",
      "  2.81242561e-03 9.99897480e-01]\n",
      " [9.99645710e-01 1.00000000e+00 9.99884486e-01 8.22744489e-01\n",
      "  9.99352515e-01 5.71963489e-02 7.52547421e-05 9.99999881e-01\n",
      "  9.99997377e-01 9.99926090e-01]\n",
      " [1.00000000e+00 9.99921679e-01 4.25622645e-12 4.88022089e-01\n",
      "  1.43983669e-07 7.85021335e-02 1.93748733e-08 4.87763871e-04\n",
      "  9.98751044e-01 3.45989946e-07]\n",
      " [2.36742548e-03 8.75702407e-03 9.99767005e-01 7.46820807e-01\n",
      "  2.81776593e-04 9.63826597e-01 1.00000000e+00 9.98032629e-01\n",
      "  4.94111422e-03 1.44451158e-03]\n",
      " [1.82696938e-04 9.99996901e-01 1.43363704e-05 4.65485215e-01\n",
      "  1.00000000e+00 9.77274179e-01 1.49570417e-12 3.92437905e-12\n",
      "  9.98315930e-01 6.92718118e-07]\n",
      " [1.00000000e+00 9.99998689e-01 9.99999881e-01 8.88567746e-01\n",
      "  2.45537848e-08 5.50476551e-01 1.00000000e+00 9.99999762e-01\n",
      "  9.99712408e-01 9.98300135e-01]\n",
      " [2.59718121e-07 9.99913454e-01 9.99998927e-01 9.53828931e-01\n",
      "  6.90860346e-12 1.00000000e+00 1.00000000e+00 2.32423808e-05\n",
      "  1.77740421e-05 1.00000000e+00]\n",
      " [9.99451578e-01 1.00000000e+00 8.11041338e-12 6.21131025e-02\n",
      "  2.57073849e-01 2.21201635e-09 8.73195566e-03 9.78765171e-03\n",
      "  9.47290857e-04 9.99997973e-01]\n",
      " [9.99945402e-01 1.00000000e+00 8.38320841e-14 9.92778718e-01\n",
      "  9.99992490e-01 1.00000000e+00 4.51591359e-06 9.71528113e-01\n",
      "  3.75047862e-03 7.83309899e-03]\n",
      " [9.99877810e-01 1.00000000e+00 9.98850703e-01 7.36166239e-02\n",
      "  1.59550196e-04 9.99353826e-01 2.65310314e-06 1.11898177e-15\n",
      "  6.48111152e-03 8.70888354e-04]\n",
      " [9.99999404e-01 5.88931674e-15 4.30101545e-06 9.15377289e-02\n",
      "  1.00000000e+00 1.34445173e-07 1.00000000e+00 9.99998927e-01\n",
      "  9.99893665e-01 9.99298334e-01]\n",
      " [9.99780238e-01 9.40064804e-10 6.80885144e-13 8.05036366e-01\n",
      "  2.72379057e-05 1.00000000e+00 3.08332063e-15 8.11234582e-04\n",
      "  9.99900222e-01 1.78942912e-06]\n",
      " [1.15863440e-06 1.20327817e-02 9.97966290e-01 7.52914190e-01\n",
      "  9.99946117e-01 9.76486742e-01 2.98183644e-03 9.98180628e-01\n",
      "  3.13106366e-02 1.04844952e-02]\n",
      " [9.99864578e-01 3.34940324e-07 2.89513910e-13 1.50680080e-01\n",
      "  9.99995828e-01 9.82792437e-01 2.00429142e-07 7.35724136e-16\n",
      "  4.20614728e-04 1.00000000e+00]\n",
      " [7.92121746e-09 1.00000000e+00 9.99990344e-01 9.96918321e-01\n",
      "  7.44195640e-05 1.00000000e+00 3.87240500e-12 9.97372389e-01\n",
      "  9.99800384e-01 4.40606877e-04]\n",
      " [3.91753616e-08 5.37862365e-18 1.18008978e-03 4.48247790e-01\n",
      "  9.99883771e-01 1.00681074e-01 4.11494111e-04 3.65164738e-06\n",
      "  9.99738276e-01 9.99091029e-01]\n",
      " [3.90206478e-05 9.99849439e-01 1.00000000e+00 8.38269651e-01\n",
      "  1.00000000e+00 6.59821033e-01 1.00000000e+00 9.99992371e-01\n",
      "  9.96977687e-01 9.99111354e-01]\n",
      " [1.00000000e+00 9.99998689e-01 9.99999881e-01 8.88567746e-01\n",
      "  2.45537848e-08 5.50476551e-01 1.00000000e+00 9.99999762e-01\n",
      "  9.99712408e-01 9.98300135e-01]\n",
      " [9.99819338e-01 1.00000000e+00 9.99999642e-01 7.24477232e-01\n",
      "  9.99705613e-01 1.46006318e-02 1.00000000e+00 9.99999523e-01\n",
      "  3.05181649e-03 9.99996066e-01]]\n"
     ]
    }
   ],
   "source": [
    "RESULTS_NN=model.predict(DATA_check)#, batch_size=None, verbose=0, steps=None, callbacks=None, max_queue_size=10, workers=1, use_multiprocessing=False)\n"
   ]
  },
  {
   "cell_type": "code",
   "execution_count": 68,
   "metadata": {
    "scrolled": false,
    "slideshow": {
     "slide_type": "slide"
    }
   },
   "outputs": [
    {
     "data": {
      "image/png": "[encoded data removed]",
      "text/plain": [
       "<Figure size 432x288 with 2 Axes>"
      ]
     },
     "metadata": {
      "needs_background": "light"
     },
     "output_type": "display_data"
    }
   ],
   "source": [
    "fig,axs=plt.subplots(nrows=2,ncols=1)#,figsize=(200,50),dpi=100)\n",
    "aux_1=np.arange(len(RESULTS_NN))\n",
    "plt.suptitle('NEURON NETWORK \\n EXPECTED OUTPUT VS NN OUTPUT')\n",
    "for i in range(grid):\n",
    "    rgb = np.random.rand(3,)\n",
    "    num=str(i)\n",
    "    axs[1].plot(aux_1,sorted(RESULTS_check[:,i]),label=num)\n",
    "    axs[0].plot(aux_1,sorted(RESULTS_NN[:,i]),label=num)\n",
    "plt.legend( loc = 'upper right')\n",
    "\n",
    "plt.show()"
   ]
  },
  {
   "cell_type": "code",
   "execution_count": 47,
   "metadata": {
    "slideshow": {
     "slide_type": "slide"
    }
   },
   "outputs": [
    {
     "data": {
      "image/png": "[encoded data removed]",
      "text/plain": [
       "<Figure size 432x288 with 1 Axes>"
      ]
     },
     "metadata": {
      "needs_background": "light"
     },
     "output_type": "display_data"
    }
   ],
   "source": [
    "ERRO=np.fabs(RESULTS_check-RESULTS_NN)\n",
    "plt.hist(ERRO,bins=10)\n",
    "plt.title(\"DISTRIBUITION \\nOF\\n THE DIFERENCE BETWEEN NN OUTPUT AND THE EXACT VALUES \")\n",
    "plt.ylabel('FREQUENCY')\n",
    "plt.xlabel('ERRO')\n",
    "plt.show()"
   ]
  },
  {
   "cell_type": "code",
   "execution_count": 95,
   "metadata": {
    "scrolled": true,
    "slideshow": {
     "slide_type": "slide"
    }
   },
   "outputs": [
    {
     "data": {
      "image/png": "[encoded data removed]",
      "text/plain": [
       "<Figure size 432x288 with 3 Axes>"
      ]
     },
     "metadata": {
      "needs_background": "light"
     },
     "output_type": "display_data"
    }
   ],
   "source": [
    "COMPARE=CA(grid,rule,1,BC=1).evo(updt)\n",
    "TEST_NN=np.zeros((updt,grid))\n",
    "TEST_NN[0,:]=COMPARE[0:1,:]\n",
    "TEST_NN[-1,:]=model.predict(COMPARE[0:1,:])\n",
    "plt.suptitle('CELULAR AUTOMATA \\n EXPECTED OUTPUT AND NN OUTPUT')\n",
    "plt.subplot(121)\n",
    "plt.imshow(TEST_NN[0::updt-1,0:15],cmap='gray')\n",
    "plt.yticks(np.arange(2),['FIRST GENERATION','LAST GENERATION'])\n",
    "plt.subplot(122)\n",
    "plt.imshow(COMPARE[0::updt-1,:],cmap='gray')\n",
    "plt.colorbar()\n",
    "plt.tight_layout()\n",
    "plt.show()"
   ]
  },
  {
   "cell_type": "code",
   "execution_count": 100,
   "metadata": {
    "scrolled": true,
    "slideshow": {
     "slide_type": "slide"
    }
   },
   "outputs": [
    {
     "data": {
      "image/png": "[encoded data removed]",
      "text/plain": [
       "<Figure size 432x288 with 3 Axes>"
      ]
     },
     "metadata": {
      "needs_background": "light"
     },
     "output_type": "display_data"
    }
   ],
   "source": [
    "plt.suptitle('CELULAR AUTOMATA \\n EXPECTED OUTPUT AND NN OUTPUT')\n",
    "plt.subplot(121)\n",
    "plt.imshow(TEST_NN[0:,0:15],cmap='gray')\n",
    "plt.subplot(122)\n",
    "plt.imshow(COMPARE[0:,:],cmap='gray')\n",
    "plt.colorbar()\n",
    "plt.show()"
   ]
  },
  {
   "cell_type": "code",
   "execution_count": null,
   "metadata": {},
   "outputs": [],
   "source": []
  },
  {
   "cell_type": "code",
   "execution_count": null,
   "metadata": {},
   "outputs": [],
   "source": []
  }
 ],
 "metadata": {
  "celltoolbar": "Slideshow",
  "kernelspec": {
   "display_name": "Python 3",
   "language": "python",
   "name": "python3"
  },
  "language_info": {
   "codemirror_mode": {
    "name": "ipython",
    "version": 3
   },
   "file_extension": ".py",
   "mimetype": "text/x-python",
   "name": "python",
   "nbconvert_exporter": "python",
   "pygments_lexer": "ipython3",
   "version": "3.7.3"
  }
 },
 "nbformat": 4,
 "nbformat_minor": 2
}
