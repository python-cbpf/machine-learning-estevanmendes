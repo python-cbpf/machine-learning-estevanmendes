{
 "cells": [
  {
   "cell_type": "code",
   "execution_count": 12,
   "metadata": {},
   "outputs": [],
   "source": [
    "import numpy as np\n",
    "import math as e\n",
    "import matplotlib.pyplot as plt\n",
    "\n",
    "class NN():\n",
    "    def __init__(self, NP,NIN):\n",
    "        self.NP=NP\n",
    "        self.NIN=NIN\n",
    "        \n",
    "    def data(self,IN,COT):\n",
    "        IN=np.array(IN)\n",
    "        COT=np.array(COT)\n",
    "        self.IN=IN\n",
    "        self.COT=np.array(COT)\n",
    "        \n",
    "    def TRNG(self):\n",
    "        def sigmoid(x):\n",
    "            return 1./(1.+np.exp(-x))\n",
    "        sigmoid=np.vectorize(sigmoid)\n",
    "        def der_sig(x):\n",
    "            return sigmoid(x)*(1.-sigmoid(x))\n",
    "        NIN=self.NIN\n",
    "        der_sig=np.vectorize(der_sig)\n",
    "        COT=self.COT\n",
    "        IN=self.IN\n",
    "        OT_ax=0 #np.zeros((np.size(IN,0)))\n",
    "        WI=np.random.uniform(size=np.size(IN,1))#coluns size\n",
    "        ite=60\n",
    "        ER=np.zeros((ite*np.size(IN,0)))\n",
    "        j=0\n",
    "        k=0\n",
    "        while(j<ite):\n",
    "            for i in range(np.size(IN,0)): \n",
    "                IN_ax=np.array(IN[i,:])\n",
    "                OT_ax=sigmoid(np.dot(IN_ax,WI))\n",
    "                WI=WI+OT_ax*(1-OT_ax)*(COT[i]-OT_ax)*IN_ax\n",
    "                ER[k]=(0.5*(OT_ax-COT[i])**2.)\n",
    "                k+=1\n",
    "            j+=1\n",
    "                \n",
    "        self.WI=WI\n",
    "        k=np.arange(len(ER))\n",
    "        plt.plot(k,ER)\n",
    "        plt.show()\n",
    "        \n",
    "    def RUN(self):\n",
    "        WI=self.WI\n",
    "        input(WI)\n",
    "        def sigmoid(x):\n",
    "            return 1/(1+e.exp(-x))\n",
    "        sigmoid=np.vectorize(sigmoid)\n",
    "        IN=self.IN\n",
    "        OT_ax=np.zeros((np.size(IN,0)))\n",
    "        for i in range(np.size(IN,0)):\n",
    "            IN_ax=np.array(IN[i,:])\n",
    "            PCT=sigmoid(2*np.dot(IN_ax,WI))\n",
    "            OT_ax[i]=PCT        \n",
    "        return OT_ax\n",
    "        \n"
   ]
  },
  {
   "cell_type": "code",
   "execution_count": 2,
   "metadata": {},
   "outputs": [
    {
     "ename": "NameError",
     "evalue": "name 'NN' is not defined",
     "output_type": "error",
     "traceback": [
      "\u001b[0;31m---------------------------------------------------------------------------\u001b[0m",
      "\u001b[0;31mNameError\u001b[0m                                 Traceback (most recent call last)",
      "\u001b[0;32m<ipython-input-2-02ce666cba2c>\u001b[0m in \u001b[0;36m<module>\u001b[0;34m\u001b[0m\n\u001b[1;32m      1\u001b[0m \u001b[0mDATA\u001b[0m\u001b[0;34m=\u001b[0m\u001b[0;34m[\u001b[0m\u001b[0;34m[\u001b[0m\u001b[0;36m0\u001b[0m\u001b[0;34m,\u001b[0m\u001b[0;36m0\u001b[0m\u001b[0;34m,\u001b[0m\u001b[0;36m1\u001b[0m\u001b[0;34m]\u001b[0m\u001b[0;34m,\u001b[0m\u001b[0;34m[\u001b[0m\u001b[0;36m1\u001b[0m\u001b[0;34m,\u001b[0m\u001b[0;36m1\u001b[0m\u001b[0;34m,\u001b[0m\u001b[0;36m1\u001b[0m\u001b[0;34m]\u001b[0m\u001b[0;34m,\u001b[0m\u001b[0;34m[\u001b[0m\u001b[0;36m1\u001b[0m\u001b[0;34m,\u001b[0m\u001b[0;36m0\u001b[0m\u001b[0;34m,\u001b[0m\u001b[0;36m1\u001b[0m\u001b[0;34m]\u001b[0m\u001b[0;34m,\u001b[0m\u001b[0;34m[\u001b[0m\u001b[0;36m0\u001b[0m\u001b[0;34m,\u001b[0m\u001b[0;36m1\u001b[0m\u001b[0;34m,\u001b[0m\u001b[0;36m1\u001b[0m\u001b[0;34m]\u001b[0m\u001b[0;34m]\u001b[0m\u001b[0;34m\u001b[0m\u001b[0;34m\u001b[0m\u001b[0m\n\u001b[1;32m      2\u001b[0m \u001b[0mRESULTS\u001b[0m\u001b[0;34m=\u001b[0m\u001b[0;34m[\u001b[0m\u001b[0;36m0\u001b[0m\u001b[0;34m,\u001b[0m\u001b[0;36m1\u001b[0m\u001b[0;34m,\u001b[0m\u001b[0;36m1\u001b[0m\u001b[0;34m,\u001b[0m\u001b[0;36m0\u001b[0m\u001b[0;34m]\u001b[0m\u001b[0;34m\u001b[0m\u001b[0;34m\u001b[0m\u001b[0m\n\u001b[0;32m----> 3\u001b[0;31m \u001b[0mteste\u001b[0m\u001b[0;34m=\u001b[0m\u001b[0mNN\u001b[0m\u001b[0;34m(\u001b[0m\u001b[0;36m1\u001b[0m\u001b[0;34m,\u001b[0m\u001b[0;36m3\u001b[0m\u001b[0;34m)\u001b[0m\u001b[0;34m\u001b[0m\u001b[0;34m\u001b[0m\u001b[0m\n\u001b[0m\u001b[1;32m      4\u001b[0m \u001b[0mx1\u001b[0m\u001b[0;34m=\u001b[0m\u001b[0mnp\u001b[0m\u001b[0;34m.\u001b[0m\u001b[0marray\u001b[0m\u001b[0;34m(\u001b[0m\u001b[0;34m[\u001b[0m\u001b[0;36m0\u001b[0m\u001b[0;34m,\u001b[0m\u001b[0;36m0\u001b[0m\u001b[0;34m,\u001b[0m\u001b[0;36m1\u001b[0m\u001b[0;34m]\u001b[0m\u001b[0;34m)\u001b[0m\u001b[0;34m\u001b[0m\u001b[0;34m\u001b[0m\u001b[0m\n\u001b[1;32m      5\u001b[0m \u001b[0mteste\u001b[0m\u001b[0;34m.\u001b[0m\u001b[0mdata\u001b[0m\u001b[0;34m(\u001b[0m\u001b[0mDATA\u001b[0m\u001b[0;34m,\u001b[0m\u001b[0mRESULTS\u001b[0m\u001b[0;34m)\u001b[0m\u001b[0;34m\u001b[0m\u001b[0;34m\u001b[0m\u001b[0m\n",
      "\u001b[0;31mNameError\u001b[0m: name 'NN' is not defined"
     ]
    }
   ],
   "source": [
    "DATA=[[0,0,1],[1,1,1],[1,0,1],[0,1,1]]\n",
    "RESULTS=[0,1,1,0]\n",
    "teste=NN(1,3)\n",
    "x1=np.array([0,0,1])\n",
    "teste.data(DATA,RESULTS)\n",
    "teste.TRNG()        \n",
    "#print(teste.RUN())"
   ]
  },
  {
   "cell_type": "code",
   "execution_count": null,
   "metadata": {},
   "outputs": [],
   "source": [
    "\n",
    "\n",
    "\n",
    "\n",
    "\n",
    "\n",
    "\n"
   ]
  },
  {
   "cell_type": "code",
   "execution_count": null,
   "metadata": {},
   "outputs": [],
   "source": []
  },
  {
   "cell_type": "code",
   "execution_count": null,
   "metadata": {},
   "outputs": [],
   "source": []
  },
  {
   "cell_type": "code",
   "execution_count": null,
   "metadata": {},
   "outputs": [],
   "source": []
  },
  {
   "cell_type": "code",
   "execution_count": null,
   "metadata": {},
   "outputs": [],
   "source": []
  },
  {
   "cell_type": "code",
   "execution_count": null,
   "metadata": {},
   "outputs": [],
   "source": []
  },
  {
   "cell_type": "code",
   "execution_count": null,
   "metadata": {},
   "outputs": [],
   "source": []
  }
 ],
 "metadata": {
  "kernelspec": {
   "display_name": "Python 3",
   "language": "python",
   "name": "python3"
  },
  "language_info": {
   "codemirror_mode": {
    "name": "ipython",
    "version": 3
   },
   "file_extension": ".py",
   "mimetype": "text/x-python",
   "name": "python",
   "nbconvert_exporter": "python",
   "pygments_lexer": "ipython3",
   "version": "3.7.3"
  }
 },
 "nbformat": 4,
 "nbformat_minor": 2
}
